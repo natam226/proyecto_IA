{
 "cells": [
  {
   "cell_type": "markdown",
   "metadata": {
    "id": "T2PctI6yIW_r"
   },
   "source": [
    "# Entrenamiento YOLOv8 - Detección de Anomalías Dentales\n",
    "\n",
    "Este notebook entrena un modelo YOLOv8 para detectar múltiples anomalías dentales en radiografías panorámicas.\n",
    "\n",
    "## Presentado por:\n",
    "- Natalia Moreno Montoya - 2230434\n",
    "- Liseth Esmeralda Erazo Varela - 2231713\n",
    "- Valentina Bueno Collazos - 2230556\n",
    "\n",
    "## Características:\n",
    "- YOLOv8m (medium) - balance entre precisión y velocidad\n",
    "- Mixed Precision (FP16) automático para optimización de VRAM\n",
    "- Data augmentation optimizado para radiografías médicas\n",
    "- Early stopping y checkpointing para evitar overfitting\n",
    "- Métricas de detección (mAP, Precision, Recall)\n",
    "- Visualización completa de resultados\n",
    "\n",
    "## Clases a Detectar:\n",
    "Este modelo detecta 14 tipos de anomalías dentales:\n",
    "1. Cordal\n",
    "2. Apiñamiento\n",
    "3. Diente rotado\n",
    "4. Diastema\n",
    "5. Zona desdentada (dentula)\n",
    "6. Tratamiento de conducto\n",
    "7. Fractura\n",
    "8. Caries\n",
    "9. Enanismo radicular\n",
    "10. Diente retenido\n",
    "11. Resto radicular\n",
    "12. Dientes sanos\n",
    "13. Enanismo denticular\n",
    "14. Diente supernumerario\n",
    "\n",
    "## Arquitectura del Modelo:\n",
    "- **YOLOv8m**: 25.9M parámetros\n",
    "- **Optimizer**: AdamW (mejor que SGD para datasets pequeños)\n",
    "- **Learning Rate**: 0.001 → 1e-05 (con warmup de 3 épocas)\n",
    "- **Batch Size**: 8 (optimizado para 4GB VRAM)\n",
    "- **Image Size**: 640x640 píxeles"
   ]
  },
  {
   "cell_type": "markdown",
   "metadata": {
    "id": "BeWCKGURIW_t"
   },
   "source": [
    "## 1. Instalación y Setup"
   ]
  },
  {
   "cell_type": "markdown",
   "metadata": {},
   "source": [
    "### Descarga Parcial del Dataset\n",
    "Se utiliza **sparse checkout** de Git para descargar únicamente la carpeta `proyecto_IA_v2` del repositorio, optimizando tiempo y espacio en disco."
   ]
  },
  {
   "cell_type": "code",
   "execution_count": null,
   "metadata": {
    "id": "bOuutEzXcbcp"
   },
   "outputs": [],
   "source": [
    "!mkdir tmp_repo && cd tmp_repo\n",
    "\n",
    "!git init\n",
    "!git remote add origin https://github.com/natam226/proyecto_IA.git\n",
    "!git config core.sparseCheckout true\n",
    "\n",
    "!echo \"proyecto_IA_v2/\" >> .git/info/sparse-checkout\n",
    "\n",
    "!git pull origin main\n",
    "\n",
    "!mv proyecto_IA_v2 /content/\n",
    "!cd /content && rm -rf tmp_repo\n"
   ]
  },
  {
   "cell_type": "code",
   "execution_count": 1,
   "metadata": {
    "colab": {
     "base_uri": "https://localhost:8080/"
    },
    "id": "mnnrfkJLIW_u",
    "outputId": "3b85ef02-2c57-4be0-c109-16befca549de"
   },
   "outputs": [
    {
     "name": "stdout",
     "output_type": "stream",
     "text": [
      "Instalando ultralytics...\n",
      "✓ Ultralytics instalado\n"
     ]
    }
   ],
   "source": [
    "import sys\n",
    "import subprocess\n",
    "\n",
    "try:\n",
    "    import ultralytics\n",
    "    print(f\"✓ Ultralytics ya instalado (versión {ultralytics.__version__})\")\n",
    "except ImportError:\n",
    "    print(\"Instalando ultralytics...\")\n",
    "    subprocess.check_call([sys.executable, \"-m\", \"pip\", \"install\", \"ultralytics\"])\n",
    "    print(\"✓ Ultralytics instalado\")"
   ]
  },
  {
   "cell_type": "code",
   "execution_count": null,
   "metadata": {
    "colab": {
     "base_uri": "https://localhost:8080/"
    },
    "id": "DJf_nrowIW_w",
    "outputId": "c7f148c7-fdac-4345-9ce2-078d3dcd91a9"
   },
   "outputs": [
    {
     "name": "stdout",
     "output_type": "stream",
     "text": [
      "Creating new Ultralytics Settings v0.0.6 file ✅ \n",
      "View Ultralytics Settings with 'yolo settings' or at '/root/.config/Ultralytics/settings.json'\n",
      "Update Settings with 'yolo settings key=value', i.e. 'yolo settings runs_dir=path/to/dir'. For help see https://docs.ultralytics.com/quickstart/#ultralytics-settings.\n",
      "✓ Importaciones completadas\n"
     ]
    }
   ],
   "source": [
    "import warnings\n",
    "warnings.filterwarnings('ignore')\n",
    "\n",
    "from pathlib import Path\n",
    "import yaml\n",
    "import torch\n",
    "import numpy as np\n",
    "import matplotlib.pyplot as plt\n",
    "import seaborn as sns\n",
    "from PIL import Image\n",
    "import cv2\n",
    "\n",
    "from ultralytics import YOLO\n",
    "import time\n",
    "from datetime import datetime\n",
    "\n",
    "# Configurar estilo\n",
    "plt.style.use('seaborn-v0_8-darkgrid')\n",
    "sns.set_palette(\"husl\")\n",
    "%matplotlib inline\n",
    "\n",
    "print(\"✓ Importaciones completadas\")"
   ]
  },
  {
   "cell_type": "markdown",
   "metadata": {
    "id": "KWLxz8ZWIW_w"
   },
   "source": [
    "## 2. Verificar GPU y Configuración"
   ]
  },
  {
   "cell_type": "code",
   "execution_count": 3,
   "metadata": {
    "colab": {
     "base_uri": "https://localhost:8080/"
    },
    "id": "x5GlNoPVIW_x",
    "outputId": "bf99a1f8-a13d-48f8-bd45-591a9bf462eb"
   },
   "outputs": [
    {
     "name": "stdout",
     "output_type": "stream",
     "text": [
      "================================================================================\n",
      "CONFIGURACIÓN DE GPU - RTX 3050 OPTIMIZADA\n",
      "================================================================================\n",
      "✓ PyTorch version: 2.8.0+cu126\n",
      "✓ CUDA version: 12.6\n",
      "✓ GPU: Tesla T4\n",
      "✓ VRAM Total: 15.83 GB\n",
      "✓ VRAM Disponible: 15.83 GB\n",
      "\n",
      "✓ Dispositivo seleccionado: CUDA:0\n",
      "================================================================================\n"
     ]
    }
   ],
   "source": [
    "print(\"=\" * 80)\n",
    "print(\"CONFIGURACIÓN DE GPU - RTX 3050 OPTIMIZADA\")\n",
    "print(\"=\" * 80)\n",
    "\n",
    "if torch.cuda.is_available():\n",
    "    print(f\"✓ PyTorch version: {torch.__version__}\")\n",
    "    print(f\"✓ CUDA version: {torch.version.cuda}\")\n",
    "    print(f\"✓ GPU: {torch.cuda.get_device_name(0)}\")\n",
    "    print(f\"✓ VRAM Total: {torch.cuda.get_device_properties(0).total_memory / 1e9:.2f} GB\")\n",
    "    print(f\"✓ VRAM Disponible: {(torch.cuda.get_device_properties(0).total_memory - torch.cuda.memory_allocated(0)) / 1e9:.2f} GB\")\n",
    "\n",
    "    # Limpiar cache\n",
    "    torch.cuda.empty_cache()\n",
    "\n",
    "    device = 0  # GPU 0\n",
    "    print(f\"\\n✓ Dispositivo seleccionado: CUDA:{device}\")\n",
    "else:\n",
    "    print(\"⚠️ GPU no disponible - usando CPU (será MUY lento)\")\n",
    "    device = 'cpu'\n",
    "\n",
    "print(\"=\" * 80)"
   ]
  },
  {
   "cell_type": "markdown",
   "metadata": {
    "id": "uvVHFROuIW_y"
   },
   "source": [
    "## 3. Verificar Dataset"
   ]
  },
  {
   "cell_type": "code",
   "execution_count": 13,
   "metadata": {
    "colab": {
     "base_uri": "https://localhost:8080/"
    },
    "id": "EZ5pPEQHIW_y",
    "outputId": "d5d1da8a-9557-482e-d845-b5e00a1a35aa"
   },
   "outputs": [
    {
     "name": "stdout",
     "output_type": "stream",
     "text": [
      "✓ Configuración del dataset:\n",
      "  • Número de clases: 15\n",
      "  • Clases: ['cordal', 'apinamiento', 'diente_rotado', 'diastema', 'zona_dentula', 'tratamiento_conducto', 'fractura', 'caries', 'enanismo_radicular', 'diente_retenido', 'resto_radicular', 'dientes_sanos', 'enanismo_denticular', 'enanismo_radicular', 'diente_supernumerario']\n",
      "\n",
      "  • Train: /content/proyecto_IA_v2/train/images\n",
      "  • Val: /content/proyecto_IA_v2/val/images\n",
      "  • Test: /content/proyecto_IA_v2/test/images\n",
      "\n",
      "✓ Imágenes encontradas:\n",
      "  • Train: 149 imágenes\n",
      "  • Val: 10 imágenes\n",
      "  • Test: 10 imágenes\n",
      "  • Total: 169 imágenes\n"
     ]
    }
   ],
   "source": [
    "# Ruta al archivo de configuración del dataset\n",
    "data_yaml_path = Path('/content/proyecto_IA_v2/data.yml')\n",
    "\n",
    "if not data_yaml_path.exists():\n",
    "    print(f\"⚠️ ERROR: No se encontró {data_yaml_path}\")\n",
    "else:\n",
    "    # Leer configuración\n",
    "    with open(data_yaml_path, 'r', encoding='utf-8') as f:\n",
    "        data_config = yaml.safe_load(f)\n",
    "\n",
    "    print(\"✓ Configuración del dataset:\")\n",
    "    print(f\"  • Número de clases: {data_config['nc']}\")\n",
    "    print(f\"  • Clases: {data_config['names']}\")\n",
    "    print(f\"\\n  • Train: {data_config['train']}\")\n",
    "    print(f\"  • Val: {data_config['val']}\")\n",
    "    print(f\"  • Test: {data_config['test']}\")\n",
    "\n",
    "\n",
    "    # Verificar que existen los directorios\n",
    "    base_dir = Path('/content/proyecto_IA_v2')\n",
    "\n",
    "    train_images = list((base_dir / 'train' / 'images').glob('*.png')) + list((base_dir / 'train' / 'images').glob('*.jpg'))\n",
    "    val_images = list((base_dir / 'val' / 'images').glob('*.png')) + list((base_dir / 'val' / 'images').glob('*.jpg'))\n",
    "    test_images = list((base_dir / 'test' / 'images').glob('*.png')) + list((base_dir / 'test' / 'images').glob('*.jpg'))\n",
    "\n",
    "    print(f\"\\n✓ Imágenes encontradas:\")\n",
    "    print(f\"  • Train: {len(train_images)} imágenes\")\n",
    "    print(f\"  • Val: {len(val_images)} imágenes\")\n",
    "    print(f\"  • Test: {len(test_images)} imágenes\")\n",
    "    print(f\"  • Total: {len(train_images) + len(val_images) + len(test_images)} imágenes\")"
   ]
  },
  {
   "cell_type": "markdown",
   "metadata": {
    "id": "Ya0NnuPsIW_z"
   },
   "source": [
    "## 4. Visualizar Ejemplos del Dataset"
   ]
  },
  {
   "cell_type": "code",
   "execution_count": null,
   "metadata": {},
   "outputs": [],
   "source": [
    "def visualize_yolo_annotations(image_path, label_path, class_names, max_boxes=50):\n",
    "    \"\"\"Visualiza una imagen con sus anotaciones YOLO.\"\"\"\n",
    "    # Leer imagen\n",
    "    img = cv2.imread(str(image_path))\n",
    "    img = cv2.cvtColor(img, cv2.COLOR_BGR2RGB)\n",
    "    h, w = img.shape[:2]\n",
    "\n",
    "    # Leer anotaciones\n",
    "    if label_path.exists():\n",
    "        with open(label_path, 'r') as f:\n",
    "            lines = f.readlines()\n",
    "\n",
    "        # Dibujar cada bounding box\n",
    "        for line in lines[:max_boxes]:\n",
    "            parts = line.strip().split()\n",
    "            if len(parts) >= 5:\n",
    "                class_id = int(parts[0])\n",
    "                x_center, y_center, width, height = map(float, parts[1:5])\n",
    "\n",
    "                # Convertir de YOLO a pixel coordinates\n",
    "                x1 = int((x_center - width/2) * w)\n",
    "                y1 = int((y_center - height/2) * h)\n",
    "                x2 = int((x_center + width/2) * w)\n",
    "                y2 = int((y_center + height/2) * h)\n",
    "\n",
    "                # Dibujar\n",
    "                color = tuple(np.random.randint(0, 255, 3).tolist())\n",
    "                cv2.rectangle(img, (x1, y1), (x2, y2), color, 2)\n",
    "\n",
    "                # Etiqueta\n",
    "                label = class_names[class_id] if class_id < len(class_names) else f\"Class {class_id}\"\n",
    "                cv2.putText(img, label, (x1, y1-10), cv2.FONT_HERSHEY_SIMPLEX, 0.5, color, 2)\n",
    "\n",
    "    return img\n",
    "\n",
    "# Visualizar algunas imágenes de ejemplo\n",
    "if len(train_images) > 0:\n",
    "    fig, axes = plt.subplots(2, 2, figsize=(16, 12))\n",
    "    axes = axes.flatten()\n",
    "\n",
    "    for i, img_path in enumerate(train_images[:4]):\n",
    "        # Buscar archivo de etiquetas correspondiente\n",
    "        label_path = Path(str(img_path).replace('/images/', '/labels/').replace('\\\\images\\\\', '\\\\labels\\\\').replace('.png', '.txt').replace('.jpg', '.txt'))\n",
    "\n",
    "        # Visualizar\n",
    "        img_with_boxes = visualize_yolo_annotations(img_path, label_path, data_config['names'])\n",
    "\n",
    "        axes[i].imshow(img_with_boxes)\n",
    "        axes[i].set_title(f'Ejemplo {i+1}: {img_path.name}', fontsize=10)\n",
    "        axes[i].axis('off')\n",
    "\n",
    "    plt.suptitle('Ejemplos del Dataset con Anotaciones', fontsize=14, fontweight='bold')\n",
    "    plt.tight_layout()\n",
    "    plt.show()\n",
    "else:\n",
    "    print(\"⚠️ No se encontraron imágenes para visualizar\")"
   ]
  },
  {
   "cell_type": "markdown",
   "metadata": {
    "colab": {
     "base_uri": "https://localhost:8080/",
     "height": 852
    },
    "id": "rmDFAdNrIW_0",
    "outputId": "c55187ef-e139-470b-85cf-9ee2e339102b"
   },
   "source": [
    "## 5. Configuración del Entrenamiento\n",
    "\n",
    "### Configuración de Hiperparámetros:\n",
    "\n",
    "#### Parámetros del Modelo:\n",
    "- **modelo**: yolov8m.pt (medium - 25.9M parámetros)\n",
    "- **epochs**: 100 épocas con early stopping (patience=20)\n",
    "- **batch size**: 8 (optimizado para 4GB VRAM)\n",
    "- **image size**: 640x640\n",
    "\n",
    "#### Optimización de GPU:\n",
    "- **Mixed Precision (AMP)**: Activado - Reduce uso de VRAM a la mitad\n",
    "- **Workers**: 2 - Para carga paralela de datos\n",
    "- **Device**: CUDA (GPU)\n",
    "\n",
    "#### Optimizador y Learning Rate:\n",
    "- **Optimizer**: AdamW (adaptive learning rate)\n",
    "- **Initial LR**: 0.001\n",
    "- **Final LR**: 1e-05\n",
    "- **Warmup**: 3 épocas de calentamiento\n",
    "- **Weight Decay**: 0.0005\n",
    "\n",
    "#### Data Augmentation para Radiografías:\n",
    "- **HSV**: Ajustes mínimos (h=0.015, s=0.2, v=0.2) - radiografías son escala de grises\n",
    "- **Rotación**: ±10 grados\n",
    "- **Traslación**: 10% del tamaño de imagen\n",
    "- **Escala**: ±20%\n",
    "- **Shear**: 5 grados\n",
    "- **Flip Horizontal**: 50% (simetría dental)\n",
    "- **Flip Vertical**: 0% (orientación anatómica fija)\n",
    "- **Mosaic**: 100% (combina 4 imágenes)\n",
    "- **Mixup**: 10% (mezcla de imágenes)\n",
    "\n",
    "Estas técnicas aumentan artificialmente el dataset y mejoran la generalización del modelo."
   ]
  },
  {
   "cell_type": "code",
   "execution_count": null,
   "metadata": {
    "colab": {
     "base_uri": "https://localhost:8080/"
    },
    "id": "AM73QkuTIW_0",
    "outputId": "5e530ebc-288e-4f16-9a36-2bb5c847f502"
   },
   "outputs": [
    {
     "name": "stdout",
     "output_type": "stream",
     "text": [
      "================================================================================\n",
      "CONFIGURACIÓN DEL ENTRENAMIENTO - YOLOv8\n",
      "================================================================================\n",
      "Modelo: yolov8m.pt\n",
      "Imagen: 640x640\n",
      "Batch size: 8\n",
      "Épocas: 100\n",
      "Workers: 2\n",
      "Mixed Precision (AMP): True\n",
      "Device: 0\n",
      "Optimizer: AdamW\n",
      "Learning Rate: 0.001 → 1e-05\n",
      "Early Stopping Patience: 20 épocas\n",
      "\n",
      "⚡ Configuración optimizada para RTX 3050 (4GB VRAM)\n",
      "================================================================================\n"
     ]
    }
   ],
   "source": [
    "CONFIG = {\n",
    "    # Modelo - YOLO Nano es el más ligero\n",
    "    'model': 'yolov8m.pt',  # Opciones: yolov8n.pt (nano), yolov8s.pt (small), yolov8m.pt (medium)\n",
    "\n",
    "    # Dataset\n",
    "    'data': str(data_yaml_path.absolute()),\n",
    "\n",
    "    # Entrenamiento \n",
    "    'epochs': 100,\n",
    "    'imgsz': 640,  # Tamaño de imagen\n",
    "    'batch': 8,    # Batch size \n",
    "\n",
    "    # Optimización GPU\n",
    "    'device': device,\n",
    "    'workers': 2,   # Workers para data loading\n",
    "    'amp': True,    # Mixed Precision (FP16) \n",
    "    'half': False,  # Se activa automáticamente con amp\n",
    "\n",
    "    # Guardado y logging\n",
    "    'project': '../runs/detect',\n",
    "    'name': 'dental_yolov8n',\n",
    "    'exist_ok': True,\n",
    "    'save': True,\n",
    "    'save_period': 10,  # Guardar checkpoint cada 10 épocas\n",
    "\n",
    "    # Optimizaciones de entrenamiento\n",
    "    'optimizer': 'AdamW',  # Mejor que SGD para datasets pequeños\n",
    "    'lr0': 0.001,          # Learning rate inicial\n",
    "    'lrf': 0.01,           # Learning rate final (lr0 * lrf)\n",
    "    'momentum': 0.937,\n",
    "    'weight_decay': 0.0005,\n",
    "    'warmup_epochs': 3,\n",
    "    'warmup_momentum': 0.8,\n",
    "    'warmup_bias_lr': 0.1,\n",
    "\n",
    "    # Data augmentation (optimizado para radiografías)\n",
    "    'hsv_h': 0.015,        # Hue augmentation (muy bajo para rayos X)\n",
    "    'hsv_s': 0.2,          # Saturation\n",
    "    'hsv_v': 0.2,          # Value/brightness\n",
    "    'degrees': 10.0,       # Rotación ±10 grados\n",
    "    'translate': 0.1,      # Traslación\n",
    "    'scale': 0.2,          # Escala\n",
    "    'shear': 5.0,          # Shear\n",
    "    'perspective': 0.0,    # Sin perspectiva (radiografías son planas)\n",
    "    'flipud': 0.0,         # No flip vertical (anatomía tiene orientación)\n",
    "    'fliplr': 0.5,         # Flip horizontal (50% - simetría dental)\n",
    "    'mosaic': 1.0,         # Mosaic augmentation\n",
    "    'mixup': 0.1,          # Mixup augmentation\n",
    "    'copy_paste': 0.0,     # No copy-paste para este caso\n",
    "\n",
    "    # Early stopping y paciencia\n",
    "    'patience': 20,        # Parar si no mejora en 20 épocas\n",
    "\n",
    "    # Validación\n",
    "    'val': True,\n",
    "    'plots': True,         # Generar gráficas\n",
    "    'verbose': True,\n",
    "\n",
    "    # Métricas\n",
    "    'conf': 0.25,          # Confidence threshold para predicciones\n",
    "    'iou': 0.7,            # IoU threshold para NMS\n",
    "}\n",
    "\n",
    "print(\"=\" * 80)\n",
    "print(\"CONFIGURACIÓN DEL ENTRENAMIENTO - YOLOv8\")\n",
    "print(\"=\" * 80)\n",
    "print(f\"Modelo: {CONFIG['model']}\")\n",
    "print(f\"Imagen: {CONFIG['imgsz']}x{CONFIG['imgsz']}\")\n",
    "print(f\"Batch size: {CONFIG['batch']}\")\n",
    "print(f\"Épocas: {CONFIG['epochs']}\")\n",
    "print(f\"Workers: {CONFIG['workers']}\")\n",
    "print(f\"Mixed Precision (AMP): {CONFIG['amp']}\")\n",
    "print(f\"Device: {CONFIG['device']}\")\n",
    "print(f\"Optimizer: {CONFIG['optimizer']}\")\n",
    "print(f\"Learning Rate: {CONFIG['lr0']} → {CONFIG['lr0'] * CONFIG['lrf']}\")\n",
    "print(f\"Early Stopping Patience: {CONFIG['patience']} épocas\")\n",
    "print(\"=\" * 80)"
   ]
  },
  {
   "cell_type": "markdown",
   "metadata": {
    "id": "R6ZqxTLMIW_1"
   },
   "source": [
    "## 6. Crear Modelo YOLOv8"
   ]
  },
  {
   "cell_type": "code",
   "execution_count": 16,
   "metadata": {
    "colab": {
     "base_uri": "https://localhost:8080/"
    },
    "id": "IHZlMmk3IW_2",
    "outputId": "890cb3f8-4a97-4bb7-e48a-ed6ffbb2b2fc"
   },
   "outputs": [
    {
     "name": "stdout",
     "output_type": "stream",
     "text": [
      "Cargando modelo yolov8m.pt...\n",
      "\u001b[KDownloading https://github.com/ultralytics/assets/releases/download/v8.3.0/yolov8m.pt to 'yolov8m.pt': 100% ━━━━━━━━━━━━ 49.7MB 119.3MB/s 0.4s\n",
      "\n",
      "✓ Modelo cargado: yolov8m.pt\n",
      "  • Tipo: YOLOv8 Nano (optimizado para velocidad)\n",
      "  • Parámetros: ~25.9M\n",
      "  • Pre-entrenado: COCO dataset (transferencia de aprendizaje)\n",
      "\n",
      "📝 Nota: El modelo se ajustará automáticamente a 15 clases\n"
     ]
    }
   ],
   "source": [
    "# Cargar modelo YOLOv8\n",
    "print(f\"Cargando modelo {CONFIG['model']}...\")\n",
    "model = YOLO(CONFIG['model'])\n",
    "\n",
    "print(f\"\\n✓ Modelo cargado: {CONFIG['model']}\")\n",
    "print(f\"  • Tipo: YOLOv8 Nano (optimizado para velocidad)\")\n",
    "print(f\"  • Parámetros: ~{sum(p.numel() for p in model.model.parameters()) / 1e6:.1f}M\")\n",
    "print(f\"  • Pre-entrenado: COCO dataset (transferencia de aprendizaje)\")\n",
    "print(f\"\\n📝 Nota: El modelo se ajustará automáticamente a {data_config['nc']} clases\")"
   ]
  },
  {
   "cell_type": "markdown",
   "metadata": {
    "id": "cz8jUo5UIW_3"
   },
   "source": [
    "## 7. Entrenar Modelo "
   ]
  },
  {
   "cell_type": "code",
   "execution_count": null,
   "metadata": {},
   "outputs": [],
   "source": [
    "print(\"=\" * 80)\n",
    "print(\"INICIANDO ENTRENAMIENTO - YOLOv8\")\n",
    "print(\"=\" * 80)\n",
    "print(f\"Fecha/Hora inicio: {datetime.now().strftime('%Y-%m-%d %H:%M:%S')}\")\n",
    "print(\"=\" * 80)\n",
    "print(\"\\n⏳ Esto puede tomar varias horas...\")\n",
    "print(\"💡 Tip: No uses el PC para tareas pesadas mientras entrena\\n\")\n",
    "\n",
    "start_time = time.time()\n",
    "\n",
    "# ENTRENAR\n",
    "results = model.train(\n",
    "    data=CONFIG['data'],\n",
    "    epochs=CONFIG['epochs'],\n",
    "    imgsz=CONFIG['imgsz'],\n",
    "    batch=CONFIG['batch'],\n",
    "    device=CONFIG['device'],\n",
    "    workers=CONFIG['workers'],\n",
    "    amp=CONFIG['amp'],\n",
    "    project=CONFIG['project'],\n",
    "    name=CONFIG['name'],\n",
    "    exist_ok=CONFIG['exist_ok'],\n",
    "    save=CONFIG['save'],\n",
    "    save_period=CONFIG['save_period'],\n",
    "    optimizer=CONFIG['optimizer'],\n",
    "    lr0=CONFIG['lr0'],\n",
    "    lrf=CONFIG['lrf'],\n",
    "    momentum=CONFIG['momentum'],\n",
    "    weight_decay=CONFIG['weight_decay'],\n",
    "    warmup_epochs=CONFIG['warmup_epochs'],\n",
    "    warmup_momentum=CONFIG['warmup_momentum'],\n",
    "    warmup_bias_lr=CONFIG['warmup_bias_lr'],\n",
    "    hsv_h=CONFIG['hsv_h'],\n",
    "    hsv_s=CONFIG['hsv_s'],\n",
    "    hsv_v=CONFIG['hsv_v'],\n",
    "    degrees=CONFIG['degrees'],\n",
    "    translate=CONFIG['translate'],\n",
    "    scale=CONFIG['scale'],\n",
    "    shear=CONFIG['shear'],\n",
    "    perspective=CONFIG['perspective'],\n",
    "    flipud=CONFIG['flipud'],\n",
    "    fliplr=CONFIG['fliplr'],\n",
    "    mosaic=CONFIG['mosaic'],\n",
    "    mixup=CONFIG['mixup'],\n",
    "    copy_paste=CONFIG['copy_paste'],\n",
    "    patience=CONFIG['patience'],\n",
    "    val=CONFIG['val'],\n",
    "    plots=CONFIG['plots'],\n",
    "    verbose=CONFIG['verbose'],\n",
    "    conf=CONFIG['conf'],\n",
    "    iou=CONFIG['iou']\n",
    ")\n",
    "\n",
    "end_time = time.time()\n",
    "total_time = end_time - start_time\n",
    "\n",
    "print(\"\\n\" + \"=\" * 80)\n",
    "print(\"ENTRENAMIENTO COMPLETADO ✅\")\n",
    "print(\"=\" * 80)\n",
    "print(f\"Fecha/Hora fin: {datetime.now().strftime('%Y-%m-%d %H:%M:%S')}\")\n",
    "print(f\"Tiempo total: {total_time/3600:.2f} horas ({total_time/60:.1f} minutos)\")\n",
    "print(f\"Tiempo por época: {total_time/CONFIG['epochs']:.1f} segundos\")\n",
    "print(\"=\" * 80)"
   ]
  },
  {
   "cell_type": "markdown",
   "metadata": {
    "colab": {
     "base_uri": "https://localhost:8080/"
    },
    "id": "Y7aYnO1bIW_3",
    "outputId": "5ee9ab99-9e84-40c2-d0a3-3a200cc14963"
   },
   "source": [
    "## 8. Resultados del Entrenamiento\n",
    "\n",
    "### Métricas Finales Obtenidas:\n",
    "- **Precision**: 0.4517 - El 45.17% de las detecciones son correctas\n",
    "- **Recall**: 0.4699 - Se detecta el 46.99% de todas las anomalías\n",
    "- **mAP50**: 0.4472 - Precisión promedio con IoU de 0.5\n",
    "- **mAP50-95**: 0.2896 - Precisión promedio con IoU de 0.5 a 0.95\n",
    "- **Fitness**: 0.2896\n",
    "\n",
    "### Interpretación:\n",
    "El modelo YOLOv8m muestra un rendimiento balanceado entre precision y recall. Los resultados indican que:\n",
    "- El modelo detecta aproximadamente la mitad de las anomalías presentes\n",
    "- Cuando hace una detección, es correcta en el 45% de los casos\n",
    "- Hay espacio para mejora, especialmente aumentando el dataset o ajustando hiperparámetros"
   ]
  },
  {
   "cell_type": "code",
   "execution_count": null,
   "metadata": {},
   "outputs": [],
   "source": [
    "# Directorio de resultados\n",
    "results_dir = Path(CONFIG['project']) / CONFIG['name']\n",
    "print(f\"📁 Directorio de resultados: {results_dir}\\n\")\n",
    "\n",
    "# Mostrar métricas finales\n",
    "print(\"=\" * 80)\n",
    "print(\"MÉTRICAS FINALES\")\n",
    "print(\"=\" * 80)\n",
    "\n",
    "# Las métricas están en results.results_dict\n",
    "metrics = results.results_dict\n",
    "print(f\"\\n📊 Métricas de Detección:\")\n",
    "for key, value in metrics.items():\n",
    "    if isinstance(value, (int, float)):\n",
    "        print(f\"  • {key}: {value:.4f}\")\n",
    "\n",
    "print(\"\\n\" + \"=\" * 80)"
   ]
  },
  {
   "cell_type": "markdown",
   "metadata": {
    "colab": {
     "base_uri": "https://localhost:8080/"
    },
    "id": "kByRMgQ4IW_4",
    "outputId": "ffe39b16-c6ad-4d77-9499-28bc8d37a88f"
   },
   "source": [
    "## 9. Visualizar Curvas de Entrenamiento\n",
    "\n",
    "Las curvas muestran la evolución del entrenamiento a lo largo de las épocas:\n",
    "- **Pérdidas (Losses)**: box_loss, cls_loss, dfl_loss - deben disminuir\n",
    "- **Métricas**: Precision, Recall, mAP50, mAP50-95 - deben aumentar\n",
    "- **Learning Rate**: Muestra el schedule del learning rate con warmup"
   ]
  },
  {
   "cell_type": "code",
   "execution_count": null,
   "metadata": {},
   "outputs": [],
   "source": [
    "# Cargar imagen de resultados generada por YOLO\n",
    "results_img_path = results_dir / 'results.png'\n",
    "\n",
    "if results_img_path.exists():\n",
    "    img = Image.open(results_img_path)\n",
    "\n",
    "    fig, ax = plt.subplots(figsize=(20, 12))\n",
    "    ax.imshow(img)\n",
    "    ax.axis('off')\n",
    "    ax.set_title('Curvas de Entrenamiento y Métricas - YOLOv8', fontsize=16, fontweight='bold', pad=20)\n",
    "    plt.tight_layout()\n",
    "    plt.show()\n",
    "else:\n",
    "    print(f\"⚠️ No se encontró {results_img_path}\")\n",
    "    print(\"Las gráficas se generaron en el directorio de resultados.\")"
   ]
  },
  {
   "cell_type": "markdown",
   "metadata": {
    "colab": {
     "base_uri": "https://localhost:8080/",
     "height": 659
    },
    "id": "i5E1OSU2IW_5",
    "outputId": "f2ae7c1b-dbcc-4f51-adf3-2a0cdac30ad7"
   },
   "source": [
    "## 10. Confusion Matrix\n",
    "\n",
    "La matriz de confusión normalizada muestra:\n",
    "- **Diagonal**: Predicciones correctas para cada clase\n",
    "- **Fuera de diagonal**: Confusiones entre clases\n",
    "- **Última columna**: Falsos negativos (no detectados)\n",
    "- **Última fila**: Falsos positivos (detecciones erróneas de fondo)\n",
    "\n",
    "Esta matriz ayuda a identificar qué clases se confunden entre sí y dónde enfocar mejoras."
   ]
  },
  {
   "cell_type": "code",
   "execution_count": null,
   "metadata": {},
   "outputs": [],
   "source": [
    "# Cargar matriz de confusión\n",
    "confusion_matrix_path = results_dir / 'confusion_matrix_normalized.png'\n",
    "\n",
    "if confusion_matrix_path.exists():\n",
    "    img = Image.open(confusion_matrix_path)\n",
    "\n",
    "    fig, ax = plt.subplots(figsize=(14, 12))\n",
    "    ax.imshow(img)\n",
    "    ax.axis('off')\n",
    "    ax.set_title('Matriz de Confusión Normalizada - YOLOv8', fontsize=16, fontweight='bold', pad=20)\n",
    "    plt.tight_layout()\n",
    "    plt.show()\n",
    "else:\n",
    "    print(f\"⚠️ No se encontró matriz de confusión en {confusion_matrix_path}\")"
   ]
  },
  {
   "cell_type": "markdown",
   "metadata": {
    "colab": {
     "base_uri": "https://localhost:8080/",
     "height": 974
    },
    "id": "0iXXuGTHIW_5",
    "outputId": "b73b8d03-d560-4ac3-e3a3-4a97038f8a0a"
   },
   "source": [
    "## 11. Validar en Test Set\n",
    "\n",
    "Se evalúa el mejor modelo guardado (best.pt) en el conjunto de test independiente.\n",
    "\n",
    "### Resultados en Test:\n",
    "- **Precision**: 0.4548\n",
    "- **Recall**: 0.3393\n",
    "- **mAP50**: 0.4197\n",
    "- **mAP50-95**: 0.2423\n",
    "\n",
    "El rendimiento en test es similar al de validación, indicando que el modelo generaliza adecuadamente sin overfitting significativo."
   ]
  },
  {
   "cell_type": "code",
   "execution_count": 21,
   "metadata": {
    "colab": {
     "base_uri": "https://localhost:8080/"
    },
    "id": "ax_YdnZtIW_5",
    "outputId": "87664d21-9185-493d-c9f0-30a7170fb426"
   },
   "outputs": [
    {
     "name": "stdout",
     "output_type": "stream",
     "text": [
      "Validando en test set...\n",
      "\n",
      "Ultralytics 8.3.220 🚀 Python-3.12.12 torch-2.8.0+cu126 CUDA:0 (Tesla T4, 15095MiB)\n",
      "Model summary (fused): 92 layers, 25,848,445 parameters, 0 gradients, 78.7 GFLOPs\n",
      "\u001b[34m\u001b[1mval: \u001b[0mFast image access ✅ (ping: 0.0±0.0 ms, read: 140.0±27.7 MB/s, size: 2533.9 KB)\n",
      "\u001b[K\u001b[34m\u001b[1mval: \u001b[0mScanning /content/proyecto_IA_v2/test/labels... 10 images, 0 backgrounds, 0 corrupt: 100% ━━━━━━━━━━━━ 10/10 109.7it/s 0.1s\n",
      "\u001b[34m\u001b[1mval: \u001b[0mNew cache created: /content/proyecto_IA_v2/test/labels.cache\n",
      "\u001b[K                 Class     Images  Instances      Box(P          R      mAP50  mAP50-95): 100% ━━━━━━━━━━━━ 2/2 1.3it/s 1.5s\n",
      "                   all         10         49      0.455      0.339       0.42      0.242\n",
      "                cordal          8         20       0.81       0.85      0.846      0.531\n",
      "           apinamiento          2          4          1       0.25      0.625      0.312\n",
      "              diastema          4          5        0.4        0.4       0.45      0.291\n",
      "          zona_dentula          5         10      0.714        0.5      0.644      0.285\n",
      "  tratamiento_conducto          3          7      0.714      0.714      0.793      0.519\n",
      "              fractura          1          1          0          0          0          0\n",
      "                caries          1          1          0          0          0          0\n",
      "    enanismo_radicular          1          1          0          0          0          0\n",
      "Speed: 20.9ms preprocess, 30.0ms inference, 0.0ms loss, 0.9ms postprocess per image\n",
      "Results saved to \u001b[1m/content/runs/detect/val\u001b[0m\n",
      "\n",
      "================================================================================\n",
      "RESULTADOS EN TEST SET\n",
      "================================================================================\n",
      "\n",
      "📊 Métricas de Test:\n",
      "  • metrics/precision(B): 0.4548\n",
      "  • metrics/recall(B): 0.3393\n",
      "  • metrics/mAP50(B): 0.4197\n",
      "  • metrics/mAP50-95(B): 0.2423\n",
      "  • fitness: 0.2423\n",
      "\n",
      "================================================================================\n"
     ]
    }
   ],
   "source": [
    "print(\"Validando en test set...\\n\")\n",
    "\n",
    "# Cargar mejor modelo\n",
    "best_model_path = results_dir / 'weights' / 'best.pt'\n",
    "model_best = YOLO(best_model_path)\n",
    "\n",
    "# Validar\n",
    "test_results = model_best.val(\n",
    "    data=CONFIG['data'],\n",
    "    split='test',\n",
    "    imgsz=CONFIG['imgsz'],\n",
    "    batch=CONFIG['batch'],\n",
    "    conf=CONFIG['conf'],\n",
    "    iou=CONFIG['iou'],\n",
    "    device=CONFIG['device']\n",
    ")\n",
    "\n",
    "print(\"\\n\" + \"=\" * 80)\n",
    "print(\"RESULTADOS EN TEST SET\")\n",
    "print(\"=\" * 80)\n",
    "print(f\"\\n📊 Métricas de Test:\")\n",
    "for key, value in test_results.results_dict.items():\n",
    "    if isinstance(value, (int, float)):\n",
    "        print(f\"  • {key}: {value:.4f}\")\n",
    "print(\"\\n\" + \"=\" * 80)"
   ]
  },
  {
   "cell_type": "markdown",
   "metadata": {
    "id": "4Uw9LKRbIW_5"
   },
   "source": [
    "## 12. Ejemplos de Predicciones"
   ]
  },
  {
   "cell_type": "code",
   "execution_count": null,
   "metadata": {},
   "outputs": [],
   "source": [
    "# Hacer predicciones en imágenes de test\n",
    "if len(test_images) > 0:\n",
    "    print(\"Realizando predicciones en imágenes de test...\\n\")\n",
    "\n",
    "    # Seleccionar algunas imágenes\n",
    "    sample_images = test_images[:min(4, len(test_images))]\n",
    "\n",
    "    # Predecir\n",
    "    predictions = model_best.predict(\n",
    "        source=[str(img) for img in sample_images],\n",
    "        conf=CONFIG['conf'],\n",
    "        iou=CONFIG['iou'],\n",
    "        imgsz=CONFIG['imgsz'],\n",
    "        device=CONFIG['device'],\n",
    "        save=False,\n",
    "        verbose=False\n",
    "    )\n",
    "\n",
    "    # Visualizar\n",
    "    fig, axes = plt.subplots(2, 2, figsize=(18, 14))\n",
    "    axes = axes.flatten()\n",
    "\n",
    "    for i, (pred, img_path) in enumerate(zip(predictions, sample_images)):\n",
    "        # Obtener imagen con predicciones\n",
    "        img_with_pred = pred.plot()  # Dibuja las predicciones\n",
    "        img_with_pred = cv2.cvtColor(img_with_pred, cv2.COLOR_BGR2RGB)\n",
    "\n",
    "        axes[i].imshow(img_with_pred)\n",
    "        axes[i].set_title(f'Predicción {i+1}: {img_path.name}\\nDetecciones: {len(pred.boxes)}', fontsize=10)\n",
    "        axes[i].axis('off')\n",
    "\n",
    "    plt.suptitle('Predicciones en Test Set - YOLOv8', fontsize=14, fontweight='bold')\n",
    "    plt.tight_layout()\n",
    "    plt.show()\n",
    "\n",
    "    # Mostrar detalles de detecciones\n",
    "    print(\"\\n\" + \"=\" * 80)\n",
    "    print(\"DETALLES DE DETECCIONES\")\n",
    "    print(\"=\" * 80)\n",
    "    for i, pred in enumerate(predictions):\n",
    "        print(f\"\\nImagen {i+1}: {sample_images[i].name}\")\n",
    "        print(f\"  Total de detecciones: {len(pred.boxes)}\")\n",
    "\n",
    "        if len(pred.boxes) > 0:\n",
    "            for j, box in enumerate(pred.boxes):\n",
    "                cls_id = int(box.cls[0])\n",
    "                conf = float(box.conf[0])\n",
    "                cls_name = data_config['names'][cls_id]\n",
    "                print(f\"    {j+1}. {cls_name}: {conf:.2%} confianza\")\n",
    "        else:\n",
    "            print(\"    (Sin detecciones)\")\n",
    "else:\n",
    "    print(\"⚠️ No hay imágenes de test disponibles\")"
   ]
  },
  {
   "cell_type": "markdown",
   "metadata": {
    "id": "t_GZi7XSIW_6"
   },
   "source": [
    "## 13. Resumen Final"
   ]
  },
  {
   "cell_type": "code",
   "execution_count": null,
   "metadata": {
    "id": "WMHp0nTOIW_6"
   },
   "outputs": [],
   "source": [
    "print(\"\\n\" + \"=\" * 80)\n",
    "print(\"RESUMEN FINAL DEL ENTRENAMIENTO - YOLOv8\")\n",
    "print(\"=\" * 80)\n",
    "\n",
    "print(f\"\\n🎯 Resultados:\")\n",
    "print(f\"  • mAP50: {test_results.results_dict.get('metrics/mAP50(B)', 0):.4f}\")\n",
    "print(f\"  • mAP50-95: {test_results.results_dict.get('metrics/mAP50-95(B)', 0):.4f}\")\n",
    "print(f\"  • Precision: {test_results.results_dict.get('metrics/precision(B)', 0):.4f}\")\n",
    "print(f\"  • Recall: {test_results.results_dict.get('metrics/recall(B)', 0):.4f}\")\n",
    "\n",
    "print(\"\\n\" + \"=\" * 80)\n",
    "print(\"✅ ENTRENAMIENTO YOLOv8 COMPLETADO EXITOSAMENTE\")\n",
    "print(\"=\" * 80)"
   ]
  },
  {
   "cell_type": "markdown",
   "metadata": {
    "id": "4C7FzfcMIW_7"
   },
   "source": [
    "## 14. Limpiar Memoria GPU"
   ]
  },
  {
   "cell_type": "code",
   "execution_count": null,
   "metadata": {
    "id": "SaWV8hiUIW_7"
   },
   "outputs": [],
   "source": [
    "# Liberar memoria GPU\n",
    "if torch.cuda.is_available():\n",
    "    torch.cuda.empty_cache()\n",
    "    print(\"✓ Cache de GPU limpiada\")\n",
    "    print(f\"  VRAM disponible: {(torch.cuda.get_device_properties(0).total_memory - torch.cuda.memory_allocated(0)) / 1e9:.2f} GB\")"
   ]
  }
 ],
 "metadata": {
  "accelerator": "GPU",
  "colab": {
   "gpuType": "T4",
   "provenance": []
  },
  "kernelspec": {
   "display_name": "Python 3",
   "name": "python3"
  },
  "language_info": {
   "codemirror_mode": {
    "name": "ipython",
    "version": 3
   },
   "file_extension": ".py",
   "mimetype": "text/x-python",
   "name": "python",
   "nbconvert_exporter": "python",
   "pygments_lexer": "ipython3",
   "version": "3.12.0"
  }
 },
 "nbformat": 4,
 "nbformat_minor": 0
}
